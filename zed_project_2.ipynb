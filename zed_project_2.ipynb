{
 "cells": [
  {
   "cell_type": "markdown",
   "metadata": {},
   "source": [
    "# Rating predictions - Piotr Falkiewicz"
   ]
  },
  {
   "cell_type": "markdown",
   "metadata": {},
   "source": [
    "+ The phase of data preprocessing was skipped due to unsatifsying results (no improvement of results).\n",
    "+ Solution consists of 2 models: Linear SVR (regression) and Linear SVC (classification).\n",
    "+ In the last stage, results of both are mixed to improve final prediction."
   ]
  },
  {
   "cell_type": "markdown",
   "metadata": {},
   "source": [
    "**1. Import of modules**"
   ]
  },
  {
   "cell_type": "code",
   "execution_count": 37,
   "metadata": {},
   "outputs": [],
   "source": [
    "import pandas as pd\n",
    "from sklearn import svm\n",
    "from sklearn.feature_extraction.text import TfidfVectorizer"
   ]
  },
  {
   "cell_type": "markdown",
   "metadata": {},
   "source": [
    "**2. Data preparation and NaN's handling**"
   ]
  },
  {
   "cell_type": "code",
   "execution_count": 4,
   "metadata": {},
   "outputs": [
    {
     "name": "stderr",
     "output_type": "stream",
     "text": [
      "/usr/local/lib/python3.5/dist-packages/ipykernel_launcher.py:5: SettingWithCopyWarning: \n",
      "A value is trying to be set on a copy of a slice from a DataFrame.\n",
      "Try using .loc[row_indexer,col_indexer] = value instead\n",
      "\n",
      "See the caveats in the documentation: http://pandas.pydata.org/pandas-docs/stable/indexing.html#indexing-view-versus-copy\n",
      "  \"\"\"\n"
     ]
    }
   ],
   "source": [
    "train_data = pd.read_csv(\"data/train.csv\")\n",
    "test_data = pd.read_csv(\"data/test.csv\")\n",
    "\n",
    "test_nan = test_data[test_data['Reviews'].isna()]\n",
    "test_nan['Rating'] = 5\n",
    "test_data = test_data.dropna(subset=['Reviews'])\n",
    "train_data = train_data.dropna(subset=['Reviews'])\n",
    "\n",
    "value = train_data['Rating'].tolist()\n",
    "features = train_data['Reviews'].tolist()\n",
    "features2 = test_data['Reviews'].tolist()"
   ]
  },
  {
   "cell_type": "markdown",
   "metadata": {},
   "source": [
    "**3. TF-IDF features preparation**"
   ]
  },
  {
   "cell_type": "code",
   "execution_count": 5,
   "metadata": {},
   "outputs": [],
   "source": [
    "vectorizer = TfidfVectorizer(analyzer='word', token_pattern=r'\\w{1,}', ngram_range=(1,3)) \n",
    "\n",
    "vectors = vectorizer.fit_transform(features+features2)"
   ]
  },
  {
   "cell_type": "markdown",
   "metadata": {},
   "source": [
    "**4. Linear SVC**"
   ]
  },
  {
   "cell_type": "code",
   "execution_count": 7,
   "metadata": {},
   "outputs": [],
   "source": [
    "classifier = svm.LinearSVC()\n",
    " \n",
    "classifier.fit(vectors[:len(features)], value)\n",
    "\n",
    "predictionsC = classifier.predict(vectors[len(features):])"
   ]
  },
  {
   "cell_type": "markdown",
   "metadata": {},
   "source": [
    "**5. Linear SVR**"
   ]
  },
  {
   "cell_type": "code",
   "execution_count": 8,
   "metadata": {},
   "outputs": [],
   "source": [
    "classifier = svm.LinearSVR(loss='squared_epsilon_insensitive')\n",
    " \n",
    "classifier.fit(vectors[:len(features)], value)\n",
    "\n",
    "predictionsR = classifier.predict(vectors[len(features):])"
   ]
  },
  {
   "cell_type": "markdown",
   "metadata": {},
   "source": [
    "**6. Predictions merge**"
   ]
  },
  {
   "cell_type": "code",
   "execution_count": 35,
   "metadata": {},
   "outputs": [],
   "source": [
    "test_data['RatingR'] = predictionsR\n",
    "test_data['RatingC'] = predictionsC\n",
    "test_data['Rating'] = test_data.apply(lambda x: int(round(x['RatingR'])) if abs(int(round(x['RatingR'])) - x['RatingC']) > 1 and int(round(x['RatingR'])) > 0 else x['RatingC'], axis = 1)"
   ]
  },
  {
   "cell_type": "markdown",
   "metadata": {},
   "source": [
    "**7. Export to file**"
   ]
  },
  {
   "cell_type": "code",
   "execution_count": 36,
   "metadata": {},
   "outputs": [],
   "source": [
    "predictions = test_data.loc[:,['Id','Rating']]\n",
    "predictions_nan = test_nan.loc[:,['Id','Rating']]\n",
    "final_predictions = pd.concat([predictions, predictions_nan])\n",
    "final_predictions.sort_values(by='Id').to_csv('results_jupter.csv', index = False)"
   ]
  }
 ],
 "metadata": {
  "kernelspec": {
   "display_name": "Python 3",
   "language": "python",
   "name": "python3"
  },
  "language_info": {
   "codemirror_mode": {
    "name": "ipython",
    "version": 3
   },
   "file_extension": ".py",
   "mimetype": "text/x-python",
   "name": "python",
   "nbconvert_exporter": "python",
   "pygments_lexer": "ipython3",
   "version": "3.5.2"
  }
 },
 "nbformat": 4,
 "nbformat_minor": 2
}
